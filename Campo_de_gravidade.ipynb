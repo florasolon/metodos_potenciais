{
 "cells": [
  {
   "cell_type": "markdown",
   "metadata": {},
   "source": [
    "# Campo de gravidade sobre a bacia do Parnaiba"
   ]
  },
  {
   "cell_type": "markdown",
   "metadata": {},
   "source": [
    "Este script é baseado na disciplina de metodos potenciais. Mostra o campo de gravidade predito pelo modelo global eigen 6c4 (Förste et al., 2014). Os coeficientes da expansão em hamônicos esféricos que descreve este modelo global podem ser baixados no site do IGCEM, na página Table of models.\n",
    "\n",
    "Förste C., Bruinsma S.L., Abrikosov O., Lemoine J.-M., Schaller T., Götze H.-J., Ebbing J., Marty J.C., Flechtner F., Balmino G., Biancale R., 2014, EIGEN-6C4 The latest combined global gravity field model including GOCE data up to degree and order 2190 of GFZ Potsdam and GRGS Toulouse, 5th GOCE User Workshop, Paris, 25-28 November 2014, url: http://icgem.gfz-potsdam.de/ICGEM/documents/Foerste-et-al-EIGEN-6C4.pdf"
   ]
  },
  {
   "cell_type": "code",
   "execution_count": 1,
   "metadata": {
    "collapsed": true
   },
   "outputs": [],
   "source": [
    "%matplotlib inline\n",
    "import numpy as np\n",
    "import matplotlib.pyplot as plt\n",
    "from matplotlib.patches import Polygon\n",
    "from mpl_toolkits.basemap import Basemap"
   ]
  },
  {
   "cell_type": "code",
   "execution_count": 2,
   "metadata": {
    "collapsed": true
   },
   "outputs": [],
   "source": [
    "import fatiando\n",
    "from fatiando import gridder"
   ]
  },
  {
   "cell_type": "code",
   "execution_count": 3,
   "metadata": {
    "collapsed": true
   },
   "outputs": [],
   "source": [
    "import minhas_funcoes as mf"
   ]
  },
  {
   "cell_type": "markdown",
   "metadata": {},
   "source": [
    "### Função para plotar os estados brasileiros"
   ]
  },
  {
   "cell_type": "code",
   "execution_count": 15,
   "metadata": {
    "collapsed": true
   },
   "outputs": [],
   "source": [
    "def drawstates(ax, shapefile='BRA_adm_shp/BRA_adm0.shp'):\n",
    "        shp = m.readshapefile(shapefile, 'states', drawbounds=True)\n",
    "        for nshape, seg in enumerate(m.states):\n",
    "            poly = Polygon(seg, facecolor='0.75', edgecolor='k')\n",
    "            ax.add_patch(poly)\n",
    "\n",
    "def drawbasin(ax, shapefile='C:/Users/flora/Google Drive/Python/EDI/shape/bacia/17.shp'):\n",
    "        shp = m.readshapefile(shapefile, 'basin', drawbounds=True)\n",
    "        for nshape, seg in enumerate(m.basin):\n",
    "            poly = Polygon(seg, facecolor='0.75', edgecolor='k')\n",
    "            ax.add_patch(poly)"
   ]
  },
  {
   "cell_type": "markdown",
   "metadata": {},
   "source": [
    "### Dados baixados no site do ICGEM "
   ]
  },
  {
   "cell_type": "code",
   "execution_count": 16,
   "metadata": {
    "collapsed": true
   },
   "outputs": [],
   "source": [
    "#Topografia predita pelo modelo ETOPO1\n",
    "\n",
    "longitude, latitude, topografia = np.loadtxt('etopo1_eigen-6c4-131243.gdf.txt', skiprows=29, unpack=True)\n",
    "\n",
    "topo_positiva = (topografia > 0.)\n",
    "topo_negativa = (topografia < 0.)\n",
    "\n",
    "longitude_min = np.min(longitude)\n",
    "longitude_max = np.max(longitude)\n",
    "\n",
    "latitude_min = np.min(latitude)\n",
    "latitude_max = np.max(latitude)\n",
    "\n",
    "longitude_central = 0.5*(longitude_max + longitude_min)\n",
    "latitude_central = 0.5*(latitude_max + latitude_min)\n",
    "\n",
    "area = [longitude_min, longitude_max,\n",
    "        latitude_min, latitude_max]"
   ]
  },
  {
   "cell_type": "code",
   "execution_count": 17,
   "metadata": {
    "collapsed": false
   },
   "outputs": [
    {
     "data": {
      "text/plain": [
       "[310.0, 320.0, -15.0, 0.0]"
      ]
     },
     "execution_count": 17,
     "metadata": {},
     "output_type": "execute_result"
    }
   ],
   "source": [
    "area"
   ]
  },
  {
   "cell_type": "markdown",
   "metadata": {},
   "source": [
    "#### Gravidade"
   ]
  },
  {
   "cell_type": "code",
   "execution_count": 18,
   "metadata": {
    "collapsed": true
   },
   "outputs": [],
   "source": [
    "gravidade = np.loadtxt('ga_eigen-6c4-131237.txt', skiprows=35, usecols=(2,3),\n",
    "                      unpack=True)"
   ]
  },
  {
   "cell_type": "markdown",
   "metadata": {},
   "source": [
    "#### Distúrbio de Gravidade"
   ]
  },
  {
   "cell_type": "code",
   "execution_count": 19,
   "metadata": {
    "collapsed": true
   },
   "outputs": [],
   "source": [
    "altitude_ortometrica, disturbio = np.loadtxt('gd_eigen-6c4-131240.gdf.txt', skiprows=35, usecols=(2,3), unpack=True)"
   ]
  },
  {
   "cell_type": "markdown",
   "metadata": {},
   "source": [
    "### Coordenadas x y da projeção cartográfica"
   ]
  },
  {
   "cell_type": "markdown",
   "metadata": {},
   "source": [
    "A projeção foi calculada com o Basemap. Para os exemplos mostrados abaixo, a projeção escolhida foi a Transversa de Mercator."
   ]
  },
  {
   "cell_type": "code",
   "execution_count": 20,
   "metadata": {
    "collapsed": false
   },
   "outputs": [],
   "source": [
    "m = Basemap(llcrnrlon=longitude_min,llcrnrlat=latitude_min,\n",
    "            urcrnrlon=longitude_max,urcrnrlat=latitude_max,\n",
    "            resolution='i',projection='tmerc',\n",
    "            lon_0=longitude_central,lat_0=latitude_central)\n",
    "x, y = m(longitude, latitude)"
   ]
  },
  {
   "cell_type": "code",
   "execution_count": 21,
   "metadata": {
    "collapsed": false
   },
   "outputs": [
    {
     "name": "stdout",
     "output_type": "stream",
     "text": [
      "     min.:       -18.96165 km\n",
      "    media:       538.34840 km\n",
      "     max.:      1095.65844 km\n",
      "var. max.:      1114.62009 km\n"
     ]
    }
   ],
   "source": [
    "_ = mf.estatistica(0.001*x, 'km')"
   ]
  },
  {
   "cell_type": "code",
   "execution_count": 22,
   "metadata": {
    "collapsed": false
   },
   "outputs": [
    {
     "name": "stdout",
     "output_type": "stream",
     "text": [
      "     min.:        -0.00000 km\n",
      "    media:       834.42908 km\n",
      "     max.:      1665.08046 km\n",
      "var. max.:      1665.08046 km\n"
     ]
    }
   ],
   "source": [
    "_ = mf.estatistica(0.001*y, 'km')"
   ]
  },
  {
   "cell_type": "markdown",
   "metadata": {},
   "source": [
    "### Parâmetros do datum geodésico WGS84"
   ]
  },
  {
   "cell_type": "code",
   "execution_count": 23,
   "metadata": {
    "collapsed": true
   },
   "outputs": [],
   "source": [
    "a, f, GM, omega = mf.WGS84()"
   ]
  },
  {
   "cell_type": "markdown",
   "metadata": {},
   "source": [
    "### Mapas"
   ]
  },
  {
   "cell_type": "code",
   "execution_count": 24,
   "metadata": {
    "collapsed": false
   },
   "outputs": [
    {
     "name": "stdout",
     "output_type": "stream",
     "text": [
      "     min.:     -4013.00000 m\n",
      "    media:       112.71591 m\n",
      "     max.:      1263.00000 m\n",
      "var. max.:      5276.00000 m\n"
     ]
    }
   ],
   "source": [
    "topografia_min, topografia_media, topografia_max, topografia_var = mf.estatistica(topografia, 'm')"
   ]
  },
  {
   "cell_type": "code",
   "execution_count": 26,
   "metadata": {
    "collapsed": false,
    "scrolled": false
   },
   "outputs": [
    {
     "ename": "TypeError",
     "evalue": "plota_mapa() got an unexpected keyword argument 'basin'",
     "output_type": "error",
     "traceback": [
      "\u001b[0;31m\u001b[0m",
      "\u001b[0;31mTypeError\u001b[0mTraceback (most recent call last)",
      "\u001b[0;32m<ipython-input-26-0e7ab0245db1>\u001b[0m in \u001b[0;36m<module>\u001b[0;34m()\u001b[0m\n\u001b[1;32m      1\u001b[0m mf.plota_mapa(m, x, y, topografia, area, 'm', 'Topografia - ETOPO1', 'gist_earth', \n\u001b[0;32m----> 2\u001b[0;31m               (10, 10), 2., estados=True,basin=True, escala=True, eixos=True)\n\u001b[0m\u001b[1;32m      3\u001b[0m \u001b[1;33m\u001b[0m\u001b[0m\n\u001b[1;32m      4\u001b[0m \u001b[1;31m#m.readshapefile('C:/Users/flora/Google Drive/Python/EDI/shape/bacia/17','17.shp',linewidth=3)\u001b[0m\u001b[1;33m\u001b[0m\u001b[1;33m\u001b[0m\u001b[0m\n",
      "\u001b[0;31mTypeError\u001b[0m: plota_mapa() got an unexpected keyword argument 'basin'"
     ]
    }
   ],
   "source": [
    "mf.plota_mapa(m, x, y, topografia, area, 'm', 'Topografia - ETOPO1', 'gist_earth', \n",
    "              (10, 10), 2., estados=True, basin=True, escala=True, eixos=True)\n",
    "\n",
    "#m.readshapefile('C:/Users/flora/Google Drive/Python/EDI/shape/bacia/17','17.shp',linewidth=3)"
   ]
  },
  {
   "cell_type": "code",
   "execution_count": null,
   "metadata": {
    "collapsed": true
   },
   "outputs": [],
   "source": []
  },
  {
   "cell_type": "code",
   "execution_count": null,
   "metadata": {
    "collapsed": true
   },
   "outputs": [],
   "source": []
  }
 ],
 "metadata": {
  "kernelspec": {
   "display_name": "Python 2",
   "language": "python",
   "name": "python2"
  },
  "language_info": {
   "codemirror_mode": {
    "name": "ipython",
    "version": 2
   },
   "file_extension": ".py",
   "mimetype": "text/x-python",
   "name": "python",
   "nbconvert_exporter": "python",
   "pygments_lexer": "ipython2",
   "version": "2.7.13"
  }
 },
 "nbformat": 4,
 "nbformat_minor": 2
}
